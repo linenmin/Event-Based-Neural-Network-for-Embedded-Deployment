{
 "cells": [
  {
   "cell_type": "code",
   "execution_count": 1,
   "id": "5df0cd27-0895-438b-8884-5b2ad43aa6f7",
   "metadata": {},
   "outputs": [
    {
     "name": "stderr",
     "output_type": "stream",
     "text": [
      "Processing .ipynb_checkpoints: 0it [00:00, ?it/s]\n"
     ]
    },
    {
     "name": "stdout",
     "output_type": "stream",
     "text": [
      "Category '.ipynb_checkpoints' processed and saved to ./bipolar_stack\\.ipynb_checkpoints\n"
     ]
    },
    {
     "name": "stderr",
     "output_type": "stream",
     "text": [
      "Processing airplane: 100%|█████████████████████████████████████████████████████████| 1000/1000 [02:56<00:00,  5.67it/s]\n"
     ]
    },
    {
     "name": "stdout",
     "output_type": "stream",
     "text": [
      "Category 'airplane' processed and saved to ./bipolar_stack\\airplane\n"
     ]
    },
    {
     "name": "stderr",
     "output_type": "stream",
     "text": [
      "Processing automobile: 100%|███████████████████████████████████████████████████████| 1000/1000 [03:53<00:00,  4.27it/s]\n"
     ]
    },
    {
     "name": "stdout",
     "output_type": "stream",
     "text": [
      "Category 'automobile' processed and saved to ./bipolar_stack\\automobile\n"
     ]
    },
    {
     "name": "stderr",
     "output_type": "stream",
     "text": [
      "Processing bird: 100%|█████████████████████████████████████████████████████████████| 1000/1000 [02:57<00:00,  5.63it/s]\n"
     ]
    },
    {
     "name": "stdout",
     "output_type": "stream",
     "text": [
      "Category 'bird' processed and saved to ./bipolar_stack\\bird\n"
     ]
    },
    {
     "name": "stderr",
     "output_type": "stream",
     "text": [
      "Processing cat: 100%|██████████████████████████████████████████████████████████████| 1000/1000 [03:10<00:00,  5.26it/s]\n"
     ]
    },
    {
     "name": "stdout",
     "output_type": "stream",
     "text": [
      "Category 'cat' processed and saved to ./bipolar_stack\\cat\n"
     ]
    },
    {
     "name": "stderr",
     "output_type": "stream",
     "text": [
      "Processing deer: 100%|█████████████████████████████████████████████████████████████| 1000/1000 [02:55<00:00,  5.71it/s]\n"
     ]
    },
    {
     "name": "stdout",
     "output_type": "stream",
     "text": [
      "Category 'deer' processed and saved to ./bipolar_stack\\deer\n"
     ]
    },
    {
     "name": "stderr",
     "output_type": "stream",
     "text": [
      "Processing dog: 100%|██████████████████████████████████████████████████████████████| 1000/1000 [03:12<00:00,  5.19it/s]\n"
     ]
    },
    {
     "name": "stdout",
     "output_type": "stream",
     "text": [
      "Category 'dog' processed and saved to ./bipolar_stack\\dog\n"
     ]
    },
    {
     "name": "stderr",
     "output_type": "stream",
     "text": [
      "Processing frog: 100%|█████████████████████████████████████████████████████████████| 1000/1000 [03:08<00:00,  5.30it/s]\n"
     ]
    },
    {
     "name": "stdout",
     "output_type": "stream",
     "text": [
      "Category 'frog' processed and saved to ./bipolar_stack\\frog\n"
     ]
    },
    {
     "name": "stderr",
     "output_type": "stream",
     "text": [
      "Processing horse: 100%|████████████████████████████████████████████████████████████| 1000/1000 [03:31<00:00,  4.73it/s]\n"
     ]
    },
    {
     "name": "stdout",
     "output_type": "stream",
     "text": [
      "Category 'horse' processed and saved to ./bipolar_stack\\horse\n"
     ]
    },
    {
     "name": "stderr",
     "output_type": "stream",
     "text": [
      "Processing ship: 100%|█████████████████████████████████████████████████████████████| 1000/1000 [02:50<00:00,  5.87it/s]\n"
     ]
    },
    {
     "name": "stdout",
     "output_type": "stream",
     "text": [
      "Category 'ship' processed and saved to ./bipolar_stack\\ship\n"
     ]
    },
    {
     "name": "stderr",
     "output_type": "stream",
     "text": [
      "Processing truck: 100%|████████████████████████████████████████████████████████████| 1000/1000 [03:38<00:00,  4.59it/s]"
     ]
    },
    {
     "name": "stdout",
     "output_type": "stream",
     "text": [
      "Category 'truck' processed and saved to ./bipolar_stack\\truck\n"
     ]
    },
    {
     "name": "stderr",
     "output_type": "stream",
     "text": [
      "\n"
     ]
    }
   ],
   "source": [
    "import os\n",
    "import struct\n",
    "import torch\n",
    "import numpy as np\n",
    "from tqdm import tqdm\n",
    "\n",
    "def read_aedat_file(filename):\n",
    "    \"\"\"Read a single .aedat file and return parsed data\"\"\"\n",
    "    with open(filename, 'rb') as f:\n",
    "        header_lines = []\n",
    "        while True:\n",
    "            pos = f.tell()\n",
    "            line = f.readline()\n",
    "            if not line:\n",
    "                raise ValueError(f\"No binary data section found in file {filename}, please check file format\")\n",
    "\n",
    "            try:\n",
    "                decoded_line = line.decode('ascii', errors='strict')\n",
    "            except UnicodeDecodeError:\n",
    "                # Unable to decode ASCII, means this is the start of binary data\n",
    "                f.seek(pos)\n",
    "                break\n",
    "\n",
    "            stripped_line = decoded_line.strip()\n",
    "            if stripped_line.startswith('#'):\n",
    "                header_lines.append(stripped_line)\n",
    "            else:\n",
    "                f.seek(pos)\n",
    "                break\n",
    "\n",
    "        data_start_index = f.tell()  # Data section start offset\n",
    "        data = f.read()\n",
    "\n",
    "    event_size = 8\n",
    "    num_events = len(data) // event_size\n",
    "\n",
    "    addresses = []\n",
    "    timestamps = []\n",
    "    xs = []\n",
    "    ys = []\n",
    "    polarities = []\n",
    "\n",
    "    for i in range(num_events):\n",
    "        event_data = data[i * event_size:(i + 1) * event_size]\n",
    "        # Parse address and timestamp in big-endian order\n",
    "        address, t = struct.unpack('>ii', event_data)\n",
    "        polarity = address & 1\n",
    "        x = (address >> 1) & 0x7F\n",
    "        y = (address >> 8) & 0x7F\n",
    "\n",
    "        addresses.append(address)\n",
    "        timestamps.append(t)\n",
    "        xs.append(x)\n",
    "        ys.append(y)\n",
    "        polarities.append(polarity)\n",
    "\n",
    "    return {\n",
    "        'header': header_lines,\n",
    "        'addresses': addresses,\n",
    "        'timestamps': timestamps,\n",
    "        'xs': xs,\n",
    "        'ys': ys,\n",
    "        'polarities': polarities\n",
    "    }\n",
    "\n",
    "def process_and_save_histogram(input_base_folder, output_base_folder, img_size=(128, 128)):\n",
    "    \"\"\"Process all .aedat files in category folders and save histogram_two_channel\"\"\"\n",
    "    # Iterate through category folders\n",
    "    for class_folder in os.listdir(input_base_folder):\n",
    "        input_folder = os.path.join(input_base_folder, class_folder)\n",
    "        output_folder = os.path.join(output_base_folder, class_folder)\n",
    "\n",
    "        if not os.path.isdir(input_folder):\n",
    "            continue  # Skip non-folder items\n",
    "\n",
    "        if not os.path.exists(output_folder):\n",
    "            os.makedirs(output_folder)  # Create corresponding output folder\n",
    "\n",
    "        for filename in tqdm(os.listdir(input_folder), desc=f\"Processing {class_folder}\"):\n",
    "            if not filename.endswith('.aedat'):\n",
    "                continue\n",
    "\n",
    "            filepath = os.path.join(input_folder, filename)\n",
    "            output_filepath = os.path.join(output_folder, filename.replace('.aedat', '.pt'))\n",
    "\n",
    "            # Read and parse file\n",
    "            data = read_aedat_file(filepath)\n",
    "            xs, ys, polarities = data['xs'], data['ys'], data['polarities']\n",
    "            num_events = len(xs)\n",
    "\n",
    "            # Initialize two channels, one for positive polarity events, one for negative polarity events\n",
    "            positive_channel = np.zeros(img_size, int)\n",
    "            negative_channel = np.zeros(img_size, int)\n",
    "\n",
    "            for i in range(num_events):\n",
    "                x, y, polarity = xs[i], ys[i], polarities[i]\n",
    "                if polarity > 0:\n",
    "                    positive_channel[img_size[0] - 1 - y, x] += 1\n",
    "                else:\n",
    "                    negative_channel[img_size[0] - 1 - y, x] += 1\n",
    "\n",
    "            # Stack positive and negative channels as 2x128x128\n",
    "            histogram_two_channel = np.stack([positive_channel, negative_channel])\n",
    "\n",
    "            # Convert to PyTorch format and save\n",
    "            torch_histogram = torch.tensor(histogram_two_channel, dtype=torch.float32)\n",
    "            torch.save(torch_histogram, output_filepath)\n",
    "\n",
    "        print(f\"Category '{class_folder}' processed and saved to {output_folder}\")\n",
    "\n",
    "# Set input and output paths\n",
    "input_base_folder = r\"C:\\\\Users\\\\Lem17\\\\Master Thesis\\\\Data processing\\\\data_aedat2\"\n",
    "output_base_folder = \"./bipolar_stack\"\n",
    "\n",
    "# Execute processing\n",
    "process_and_save_histogram(input_base_folder, output_base_folder)"
   ]
  },
  {
   "cell_type": "code",
   "execution_count": null,
   "id": "32119674-479c-4bff-9682-44b21191df66",
   "metadata": {},
   "outputs": [],
   "source": []
  }
 ],
 "metadata": {
  "kernelspec": {
   "display_name": "Python 3 (ipykernel)",
   "language": "python",
   "name": "python3"
  },
  "language_info": {
   "codemirror_mode": {
    "name": "ipython",
    "version": 3
   },
   "file_extension": ".py",
   "mimetype": "text/x-python",
   "name": "python",
   "nbconvert_exporter": "python",
   "pygments_lexer": "ipython3",
   "version": "3.12.3"
  }
 },
 "nbformat": 4,
 "nbformat_minor": 5
}
